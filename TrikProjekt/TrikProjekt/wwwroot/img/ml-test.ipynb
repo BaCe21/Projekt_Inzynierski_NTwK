{
  "cells": [
    {
      "cell_type": "code",
      "source": [
        "import sys\n",
        "import scipy\n",
        "import numpy as np\n",
        "import matplotlib as plt\n",
        "import pandas as pd\n",
        "import sklearn \n",
        "import seaborn as sns"
      ],
      "outputs": [],
      "execution_count": 25,
      "metadata": {
        "gather": {
          "logged": 1666286351556
        }
      }
    },
    {
      "cell_type": "code",
      "source": [
        "from pandas import read_csv\n",
        "from pandas.plotting import scatter_matrix\n",
        "from matplotlib import pyplot\n",
        "from sklearn.model_selection import train_test_split\n",
        "from sklearn.model_selection import cross_val_score\n",
        "from sklearn.model_selection import StratifiedKFold\n",
        "from sklearn.metrics import classification_report\n",
        "from sklearn.metrics import confusion_matrix\n",
        "from sklearn.metrics import accuracy_score\n",
        "from sklearn.linear_model import LogisticRegression\n",
        "from sklearn.tree import DecisionTreeClassifier\n",
        "from sklearn.neighbors import KNeighborsClassifier\n",
        "from sklearn.discriminant_analysis import LinearDiscriminantAnalysis\n",
        "from sklearn.naive_bayes import GaussianNB\n",
        "from sklearn.svm import SVC"
      ],
      "outputs": [],
      "execution_count": 26,
      "metadata": {
        "gather": {
          "logged": 1666286355469
        }
      }
    },
    {
      "cell_type": "code",
      "source": [
        "def load_data():\n",
        "    return pd.read_csv(r'Dane Inzynierka.csv')\n",
        "\n",
        "dataset = load_data()"
      ],
      "outputs": [],
      "execution_count": 27,
      "metadata": {
        "gather": {
          "logged": 1666286355589
        }
      }
    },
    {
      "cell_type": "markdown",
      "source": [
        "Summarize the dataset"
      ],
      "metadata": {}
    },
    {
      "cell_type": "code",
      "source": [
        "# print(\"Dataset shape: \",dataset.shape)\n",
        "print(\"Dataset: \",dataset.columns)\n",
        "#print(\"Dataset description: \",dataset.describe)"
      ],
      "outputs": [
        {
          "output_type": "stream",
          "name": "stdout",
          "text": "Dataset:  Index(['numer_sprawy', 'kategoria_gwałt', 'kategoria_kradzież',\n       'kategoria_pobicie', 'kategoria_porwanie', 'kategoria_wandalizm',\n       'kategoria_włamanie', 'kategoria_zabójstwo', 'wojewodztwo_dolnośląskie',\n       'wojewodztwo_kujawskopomorskie', 'wojewodztwo_lubelskie',\n       'wojewodztwo_lubuskie', 'wojewodztwo_mazowieckie',\n       'wojewodztwo_małopolskie', 'wojewodztwo_opolskie',\n       'wojewodztwo_podkarpackie', 'wojewodztwo_podlaskie',\n       'wojewodztwo_pomorskie', 'wojewodztwo_warmińsko-mazurskie',\n       'wojewodztwo_wielkopolskie', 'wojewodztwo_zachodniopomorskie',\n       'wojewodztwo_łódzkie', 'wojewodztwo_śląskie',\n       'wojewodztwo_świętokrzyskie', 'wiek_ofiary_20-30', 'wiek_ofiary_30-50',\n       'wiek_ofiary_50+', 'wiek_ofiary_brak ofiary', 'wiek_ofiary_do 20',\n       'wiek_ofiary_poniżej 20', 'kolor_wlosow_ofiary_brak ofiary',\n       'kolor_wlosow_ofiary_brak/łysina', 'kolor_wlosow_ofiary_ciemny blond',\n       'kolor_wlosow_ofiary_czarne', 'kolor_wlosow_ofiary_jasne',\n       'kolor_wlosow_ofiary_nieznane', 'kolor_wlosow_ofiary_rude',\n       'kolor_wlosow_ofiary_siwe', 'znaki_szczegolne_ofiary_blizna',\n       'znaki_szczegolne_ofiary_brak ofiary',\n       'znaki_szczegolne_ofiary_niepełnosprwność',\n       'znaki_szczegolne_ofiary_nieznane', 'znaki_szczegolne_ofiary_tatuaż',\n       'znaki_szczegolne_ofiary_zakola', 'wyksztalcenie_ofiary_brak ofiary',\n       'wyksztalcenie_ofiary_gimnazjalne', 'wyksztalcenie_ofiary_nieznane',\n       'wyksztalcenie_ofiary_podstawowe', 'wyksztalcenie_ofiary_wyższe',\n       'wyksztalcenie_ofiary_zasadnicze branżowe',\n       'wyksztalcenie_ofiary_zasadnicze zawodowe',\n       'wyksztalcenie_ofiary_średnie', 'wyksztalcenie_ofiary_średnie branżowe',\n       'znaki_szczegolne_zwlok_0_znamiona duszenia',\n       'znaki_szczegolne_zwlok_1_znamiona gwałtu',\n       'znaki_szczegolne_zwlok_2_ okaleczenie narządów płciowych',\n       'znaki_szczegolne_zwlok_2_okaleczenie narządów płciowych',\n       'znaki_szczegolne_zwlok_3_okaleczenie oczu',\n       'znaki_szczegolne_zwlok_4_schludne ułożenie',\n       'znaki_szczegolne_zwlok_5_nieznane',\n       'znaki_szczegolne_zwlok_6_brak ofiary'],\n      dtype='object')\n"
        }
      ],
      "execution_count": 28,
      "metadata": {
        "gather": {
          "logged": 1666286356899
        }
      }
    },
    {
      "cell_type": "markdown",
      "source": [
        "Data Vizualization"
      ],
      "metadata": {}
    },
    {
      "cell_type": "markdown",
      "source": [
        "PCA (Principal Component Analysis) implementation"
      ],
      "metadata": {}
    },
    {
      "cell_type": "code",
      "source": [
        "dataset = dataset.drop(['wiek_ofiary_do 20'], axis=1)"
      ],
      "outputs": [],
      "execution_count": 29,
      "metadata": {
        "gather": {
          "logged": 1666286360340
        }
      }
    },
    {
      "cell_type": "code",
      "source": [
        "from sklearn.decomposition import PCA\n",
        "\n",
        "pca = PCA(n_components=59)\n",
        "pcs = pca.fit_transform(dataset)\n",
        "pca.explained_variance_ratio_.cumsum()"
      ],
      "outputs": [
        {
          "output_type": "execute_result",
          "execution_count": 30,
          "data": {
            "text/plain": "array([0.99388857, 0.99481469, 0.99552295, 0.99586823, 0.99617493,\n       0.99647488, 0.99675298, 0.99701571, 0.99724525, 0.99745852,\n       0.99765625, 0.99783145, 0.9979948 , 0.99815128, 0.99829842,\n       0.99843514, 0.99856964, 0.99868745, 0.99879765, 0.99889821,\n       0.99898687, 0.99907363, 0.99915463, 0.99922887, 0.99929786,\n       0.99936283, 0.99942216, 0.99947852, 0.99953066, 0.99958146,\n       0.99963121, 0.99967603, 0.99971658, 0.99975257, 0.99978748,\n       0.99981663, 0.99984384, 0.99986793, 0.99989128, 0.99991039,\n       0.99992735, 0.99994342, 0.99995696, 0.99996888, 0.99997775,\n       0.99998516, 0.99999053, 0.99999581, 0.99999815, 1.        ,\n       1.        , 1.        , 1.        , 1.        , 1.        ,\n       1.        , 1.        , 1.        , 1.        ])"
          },
          "metadata": {}
        }
      ],
      "execution_count": 30,
      "metadata": {
        "gather": {
          "logged": 1666286362099
        }
      }
    },
    {
      "cell_type": "code",
      "source": [
        "pc1_values = pcs[:,0]\n",
        "pc2_values = pcs[:,1]\n",
        "sns.scatterplot(x=pc1_values, y=pc2_values)"
      ],
      "outputs": [
        {
          "output_type": "execute_result",
          "execution_count": 9,
          "data": {
            "text/plain": "<matplotlib.axes._subplots.AxesSubplot at 0x7f1d953e7790>"
          },
          "metadata": {}
        },
        {
          "output_type": "display_data",
          "data": {
            "text/plain": "<Figure size 432x288 with 1 Axes>",
            "image/png": "[encoded data removed]"
          },
          "metadata": {
            "needs_background": "light"
          }
        }
      ],
      "execution_count": 9,
      "metadata": {
        "gather": {
          "logged": 1666286206188
        }
      }
    },
    {
      "cell_type": "markdown",
      "source": [
        "Widzimy, że pierwszy wymiar pokrywa nam jedynie 20% wyników, dopiero zastosowanie 25 daje wyniki powyżej 90% pokrytych danych"
      ],
      "metadata": {}
    },
    {
      "cell_type": "markdown",
      "source": [
        "Wstawka"
      ],
      "metadata": {}
    },
    {
      "cell_type": "code",
      "source": [
        "X = dataset\n",
        "y = dataset['numer_sprawy']"
      ],
      "outputs": [],
      "execution_count": 31,
      "metadata": {
        "gather": {
          "logged": 1666286366828
        }
      }
    },
    {
      "cell_type": "code",
      "source": [
        "from sklearn.model_selection import train_test_split\n",
        "\n",
        "X_train, X_test, y_train, y_test = train_test_split(X, y, test_size=0.2, random_state=0)"
      ],
      "outputs": [],
      "execution_count": 32,
      "metadata": {
        "gather": {
          "logged": 1666286369121
        }
      }
    },
    {
      "cell_type": "code",
      "source": [
        "from sklearn.preprocessing import StandardScaler\n",
        "\n",
        "sc = StandardScaler()\n",
        "X_train = sc.fit_transform(X_train)\n",
        "X_test = sc.transform(X_test)"
      ],
      "outputs": [],
      "execution_count": 33,
      "metadata": {
        "gather": {
          "logged": 1666286370660
        }
      }
    },
    {
      "cell_type": "code",
      "source": [
        "from sklearn.decomposition import PCA\n",
        "\n",
        "pca = PCA()\n",
        "X_train = pca.fit_transform(X_train)\n",
        "X_test = pca.transform(X_test)"
      ],
      "outputs": [],
      "execution_count": 34,
      "metadata": {
        "gather": {
          "logged": 1666286371898
        }
      }
    },
    {
      "cell_type": "code",
      "source": [
        "explained_variance = pca.explained_variance_ratio_"
      ],
      "outputs": [],
      "execution_count": 35,
      "metadata": {
        "gather": {
          "logged": 1666286373569
        }
      }
    },
    {
      "cell_type": "code",
      "source": [
        "print(explained_variance)"
      ],
      "outputs": [
        {
          "output_type": "stream",
          "name": "stdout",
          "text": "[1.26473047e-01 8.52561338e-02 6.32983190e-02 4.85252684e-02\n 4.52702817e-02 4.04499427e-02 3.89542284e-02 3.74274508e-02\n 3.59546480e-02 3.36907789e-02 3.11933851e-02 3.07235706e-02\n 2.67947844e-02 2.58185737e-02 2.37638093e-02 2.26055976e-02\n 2.14309492e-02 2.14077009e-02 2.00435587e-02 1.97634314e-02\n 1.91567562e-02 1.63491041e-02 1.55588374e-02 1.52192820e-02\n 1.43252873e-02 1.32091974e-02 1.18122014e-02 9.82168500e-03\n 9.52934654e-03 8.58114714e-03 7.89016941e-03 7.39444108e-03\n 6.74824488e-03 6.22063171e-03 5.00370549e-03 4.79630839e-03\n 4.48114290e-03 4.26996124e-03 4.12186285e-03 3.51640342e-03\n 3.37335883e-03 2.40437566e-03 2.00773136e-03 1.64399494e-03\n 1.15403551e-03 1.09002946e-03 7.06549441e-04 5.24230239e-04\n 2.44519261e-04 2.49424106e-32 1.36597249e-33 1.09852882e-33\n 9.40676392e-34 7.15123267e-34 6.38206429e-34 6.38206429e-34\n 6.38206429e-34 6.38206429e-34 6.38206429e-34 6.38206429e-34]\n"
        }
      ],
      "execution_count": 36,
      "metadata": {
        "gather": {
          "logged": 1666286376070
        }
      }
    },
    {
      "cell_type": "code",
      "source": [
        "from sklearn.decomposition import PCA\n",
        "\n",
        "pca = PCA(n_components=1)\n",
        "X_train = pca.fit_transform(X_train)\n",
        "X_test = pca.transform(X_test)"
      ],
      "outputs": [],
      "execution_count": 38,
      "metadata": {
        "gather": {
          "logged": 1666286382437
        }
      }
    },
    {
      "cell_type": "code",
      "source": [
        "from sklearn.ensemble import RandomForestClassifier\n",
        "\n",
        "classifier = RandomForestClassifier(max_depth=2, random_state=0)\n",
        "classifier.fit(X_train, y_train)\n",
        "\n",
        "# Predicting the Test set results\n",
        "y_pred = classifier.predict(X_test)"
      ],
      "outputs": [],
      "execution_count": 39,
      "metadata": {
        "gather": {
          "logged": 1666286384670
        }
      }
    },
    {
      "cell_type": "markdown",
      "source": [
        "koniec wstawki"
      ],
      "metadata": {}
    },
    {
      "cell_type": "markdown",
      "source": [
        "Agglomerative Hierarchical Clustering"
      ],
      "metadata": {}
    },
    {
      "cell_type": "code",
      "source": [
        "import scipy.cluster.hierarchy as shc\n",
        "import matplotlib.pyplot as plt\n",
        "\n",
        "plt.figure(figsize=(10, 7))\n",
        "plt.title(\"Crime cases\")\n",
        "\n",
        "# Selecting Annual Income and Spending Scores by index\n",
        "selected_data = dataset.iloc[:, 0:59]\n",
        "clusters = shc.linkage(selected_data, \n",
        "            method='ward', \n",
        "            metric=\"euclidean\")\n",
        "shc.dendrogram(Z=clusters)\n",
        "plt.axhline(y = 125, color = 'r', linestyle = '-')\n",
        "plt.show()\n"
      ],
      "outputs": [
        {
          "output_type": "display_data",
          "data": {
            "text/plain": "<Figure size 720x504 with 1 Axes>",
            "image/png": "[encoded data removed]"
          },
          "metadata": {
            "needs_background": "light"
          }
        }
      ],
      "execution_count": 40,
      "metadata": {
        "gather": {
          "logged": 1666286390418
        }
      }
    },
    {
      "cell_type": "code",
      "source": [
        "from sklearn.cluster import AgglomerativeClustering\n",
        "\n",
        "clustering_model = AgglomerativeClustering(n_clusters=10, affinity='euclidean', linkage='ward')\n",
        "clustering_model.fit(selected_data)\n",
        "array = clustering_model.labels_\n",
        "print(array)"
      ],
      "outputs": [
        {
          "output_type": "stream",
          "name": "stdout",
          "text": "[0 0 0 0 0 0 0 0 0 0 0 0 0 0 2 2 2 2 2 2 2 2 2 2 2 2 2 5 5 5 5 5 5 5 5 5 5\n 5 5 5 1 1 1 1 1 1 1 1 1 1 1 3 3 3 3 3 3 3 3 3 3 8 8 8 8 8 8 8 8 7 7 7 7 7\n 7 7 7 7 9 9 9 9 9 9 4 4 4 4 4 4 4 4 4 6 6 6 6 6 6 6 6]\n"
        }
      ],
      "execution_count": 41,
      "metadata": {
        "gather": {
          "logged": 1666286403633
        }
      }
    },
    {
      "cell_type": "markdown",
      "source": [],
      "metadata": {}
    },
    {
      "cell_type": "code",
      "source": [
        "def loadarray():\n",
        "    dataset[\"Numer Klastra\"] = \"1\"\n",
        "    for i in range(0,len(array)):\n",
        "        dataset.iloc[i] = array[i]\n",
        "\n",
        "    print(dataset.head())\n",
        "\n",
        "loadarray()\n",
        "dataset.to_csv('Test-Dane.csv')"
      ],
      "outputs": [
        {
          "output_type": "stream",
          "name": "stdout",
          "text": "   numer_sprawy  kategoria_gwałt  kategoria_kradzież  kategoria_pobicie  \\\n0             0                0                   0                  0   \n1             0                0                   0                  0   \n2             0                0                   0                  0   \n3             0                0                   0                  0   \n4             0                0                   0                  0   \n\n   kategoria_porwanie  kategoria_wandalizm  kategoria_włamanie  \\\n0                   0                    0                   0   \n1                   0                    0                   0   \n2                   0                    0                   0   \n3                   0                    0                   0   \n4                   0                    0                   0   \n\n   kategoria_zabójstwo  wojewodztwo_dolnośląskie  \\\n0                    0                         0   \n1                    0                         0   \n2                    0                         0   \n3                    0                         0   \n4                    0                         0   \n\n   wojewodztwo_kujawskopomorskie  ...  wyksztalcenie_ofiary_średnie branżowe  \\\n0                              0  ...                                      0   \n1                              0  ...                                      0   \n2                              0  ...                                      0   \n3                              0  ...                                      0   \n4                              0  ...                                      0   \n\n   znaki_szczegolne_zwlok_0_znamiona duszenia  \\\n0                                           0   \n1                                           0   \n2                                           0   \n3                                           0   \n4                                           0   \n\n   znaki_szczegolne_zwlok_1_znamiona gwałtu  \\\n0                                         0   \n1                                         0   \n2                                         0   \n3                                         0   \n4                                         0   \n\n   znaki_szczegolne_zwlok_2_ okaleczenie narządów płciowych  \\\n0                                                  0          \n1                                                  0          \n2                                                  0          \n3                                                  0          \n4                                                  0          \n\n   znaki_szczegolne_zwlok_2_okaleczenie narządów płciowych  \\\n0                                                  0         \n1                                                  0         \n2                                                  0         \n3                                                  0         \n4                                                  0         \n\n   znaki_szczegolne_zwlok_3_okaleczenie oczu  \\\n0                                          0   \n1                                          0   \n2                                          0   \n3                                          0   \n4                                          0   \n\n   znaki_szczegolne_zwlok_4_schludne ułożenie  \\\n0                                           0   \n1                                           0   \n2                                           0   \n3                                           0   \n4                                           0   \n\n   znaki_szczegolne_zwlok_5_nieznane  znaki_szczegolne_zwlok_6_brak ofiary  \\\n0                                  0                                     0   \n1                                  0                                     0   \n2                                  0                                     0   \n3                                  0                                     0   \n4                                  0                                     0   \n\n   Numer Klastra  \n0              0  \n1              0  \n2              0  \n3              0  \n4              0  \n\n[5 rows x 61 columns]\n"
        }
      ],
      "execution_count": 62,
      "metadata": {
        "gather": {
          "logged": 1666287795926
        }
      }
    }
  ],
  "metadata": {
    "kernelspec": {
      "name": "python3",
      "language": "python",
      "display_name": "Python 3 (ipykernel)"
    },
    "language_info": {
      "name": "python",
      "version": "3.8.5",
      "mimetype": "text/x-python",
      "codemirror_mode": {
        "name": "ipython",
        "version": 3
      },
      "pygments_lexer": "ipython3",
      "nbconvert_exporter": "python",
      "file_extension": ".py"
    },
    "orig_nbformat": 4,
    "vscode": {
      "interpreter": {
        "hash": "bd1309e7579e4e0ac9fced9dcc9a71ccfc6faee8c9ea9078c2ba89a1c6c4b145"
      }
    },
    "nteract": {
      "version": "nteract-front-end@1.0.0"
    },
    "kernel_info": {
      "name": "python3"
    },
    "microsoft": {
      "host": {
        "AzureML": {
          "notebookHasBeenCompleted": true
        }
      }
    }
  },
  "nbformat": 4,
  "nbformat_minor": 2
}